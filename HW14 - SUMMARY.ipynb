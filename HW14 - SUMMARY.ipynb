{
 "cells": [
  {
   "cell_type": "markdown",
   "id": "sharing-tactics",
   "metadata": {},
   "source": [
    "# HW14 - SUMMARY"
   ]
  },
  {
   "cell_type": "markdown",
   "id": "heavy-space",
   "metadata": {},
   "source": [
    "## Which model has a lower loss?\n",
    "### Closing Prices Model.\n",
    "\n",
    "## Which model tracks the actual values better over time?\n",
    "### Closing Prices Model.\n",
    "\n",
    "## Which window size works best for the model?\n",
    "### I tried 5, 10 and 20, looks like 5 works best for the model. "
   ]
  },
  {
   "cell_type": "code",
   "execution_count": null,
   "id": "advance-collar",
   "metadata": {},
   "outputs": [],
   "source": []
  }
 ],
 "metadata": {
  "kernelspec": {
   "display_name": "Python 3",
   "language": "python",
   "name": "python3"
  },
  "language_info": {
   "codemirror_mode": {
    "name": "ipython",
    "version": 3
   },
   "file_extension": ".py",
   "mimetype": "text/x-python",
   "name": "python",
   "nbconvert_exporter": "python",
   "pygments_lexer": "ipython3",
   "version": "3.8.5"
  }
 },
 "nbformat": 4,
 "nbformat_minor": 5
}
